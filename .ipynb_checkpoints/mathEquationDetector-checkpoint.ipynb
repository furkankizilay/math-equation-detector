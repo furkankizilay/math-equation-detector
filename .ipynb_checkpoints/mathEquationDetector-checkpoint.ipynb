{
 "cells": [
  {
   "cell_type": "markdown",
   "metadata": {},
   "source": [
    "## Importing required libraries"
   ]
  },
  {
   "cell_type": "code",
   "execution_count": 84,
   "metadata": {},
   "outputs": [],
   "source": [
    "import numpy as np # linear algebra\n",
    "import pandas as pd # data processing\n",
    "import seaborn as sns # data visualization\n",
    "import matplotlib.pyplot as plt # data visualization\n",
    "# import warnings\n",
    "import warnings\n",
    "# filter warnings\n",
    "warnings.filterwarnings('ignore')\n",
    "import cv2\n",
    "import tensorflow as tf\n",
    "import matplotlib.pyplot as plt\n",
    "from imutils.contours import sort_contours\n",
    "import imutils # !pip install imutils\n",
    "from keras.models import Sequential\n",
    "from keras.layers import Conv2D\n",
    "from keras.layers import MaxPooling2D\n",
    "from keras.layers import Dense\n",
    "from keras.layers import Flatten\n",
    "from keras.layers import MaxPooling2D\n",
    "from keras.optimizers import SGD\n",
    "from keras.optimizers import RMSprop,Adam\n",
    "from keras.callbacks import ReduceLROnPlateau\n",
    "from keras.preprocessing.image import ImageDataGenerator\n",
    "from tensorflow.keras.layers import BatchNormalization\n",
    "from keras.utils.np_utils import to_categorical # convert to one-hot-encoding\n",
    "from keras.regularizers import l1,l2\n",
    "import os\n",
    "from sklearn.model_selection import train_test_split\n",
    "from keras.utils.np_utils import to_categorical"
   ]
  },
  {
   "cell_type": "markdown",
   "metadata": {},
   "source": [
    "## Creating X and Y arrays"
   ]
  },
  {
   "cell_type": "code",
   "execution_count": 85,
   "metadata": {},
   "outputs": [],
   "source": [
    "x = []\n",
    "y = []\n",
    "for i in range(0,16):\n",
    "    for j in range(1,21):\n",
    "        a = os.path.isfile('allData/dataset/'+str(i)+'/'+str(j)+'.png')\n",
    "        if a :\n",
    "            image = cv2.imread('allData/dataset/'+str(i)+'/'+str(j)+'.png', 0)\n",
    "            img_resized = cv2.resize(255-image, (28,28), interpolation=cv2.INTER_AREA)\n",
    "            unrolled = img_resized.ravel()\n",
    "            x.append(unrolled)\n",
    "            y.append(i)"
   ]
  },
  {
   "cell_type": "code",
   "execution_count": 86,
   "metadata": {},
   "outputs": [],
   "source": [
    "# Converting x and y variables to numpy arrays\n",
    "x = np.array(x)\n",
    "y = np.array(y)"
   ]
  },
  {
   "cell_type": "code",
   "execution_count": 87,
   "metadata": {},
   "outputs": [
    {
     "name": "stdout",
     "output_type": "stream",
     "text": [
      "(320, 784)\n",
      "(320,)\n"
     ]
    }
   ],
   "source": [
    "# Shapes of x and y arrays\n",
    "print(x.shape)\n",
    "print(y.shape)"
   ]
  },
  {
   "cell_type": "markdown",
   "metadata": {},
   "source": [
    "## Preprocessing"
   ]
  },
  {
   "cell_type": "markdown",
   "metadata": {},
   "source": [
    "### 1) Splitting"
   ]
  },
  {
   "cell_type": "code",
   "execution_count": 88,
   "metadata": {},
   "outputs": [],
   "source": [
    "# We divide the dataset into 3 separate parts as train test and validation sets."
   ]
  },
  {
   "cell_type": "code",
   "execution_count": 89,
   "metadata": {},
   "outputs": [],
   "source": [
    "# train = %70 and test = %30 of overall dataset\n",
    "x_train, x_val_test, y_train, y_val_test = train_test_split(x, y, test_size=0.3, random_state=123)"
   ]
  },
  {
   "cell_type": "code",
   "execution_count": 90,
   "metadata": {},
   "outputs": [],
   "source": [
    "x_val, x_test, y_val, y_test = train_test_split(x_val_test, y_val_test, test_size=0.5, random_state=123)"
   ]
  },
  {
   "cell_type": "markdown",
   "metadata": {},
   "source": [
    "### 2) Normalization and Reshaping"
   ]
  },
  {
   "cell_type": "code",
   "execution_count": 91,
   "metadata": {},
   "outputs": [],
   "source": [
    "# Reshape data"
   ]
  },
  {
   "cell_type": "code",
   "execution_count": 92,
   "metadata": {},
   "outputs": [],
   "source": [
    "x_train = x_train.reshape(x_train.shape[0], 28, 28, 1)\n",
    "x_val = x_val.reshape(x_val.shape[0], 28, 28, 1)\n",
    "x_test = x_test.reshape(x_test.shape[0], 28, 28, 1) "
   ]
  },
  {
   "cell_type": "code",
   "execution_count": 93,
   "metadata": {},
   "outputs": [],
   "source": [
    "input_shape = (28, 28, 1)"
   ]
  },
  {
   "cell_type": "code",
   "execution_count": 94,
   "metadata": {},
   "outputs": [],
   "source": [
    "# We convert the values held by our variables to float\n",
    "x_train = x_train.astype('float32')\n",
    "x_val = x_val.astype('float32')\n",
    "x_test = x_test.astype('float32')"
   ]
  },
  {
   "cell_type": "code",
   "execution_count": 95,
   "metadata": {},
   "outputs": [],
   "source": [
    "# Normalization for RGB"
   ]
  },
  {
   "cell_type": "code",
   "execution_count": 96,
   "metadata": {},
   "outputs": [],
   "source": [
    "x_train /= 255\n",
    "x_val /= 255\n",
    "x_test /= 255"
   ]
  },
  {
   "cell_type": "code",
   "execution_count": 97,
   "metadata": {},
   "outputs": [
    {
     "name": "stdout",
     "output_type": "stream",
     "text": [
      "x_train shape:  (224, 28, 28, 1)\n"
     ]
    }
   ],
   "source": [
    "print(\"x_train shape: \",x_train.shape)"
   ]
  },
  {
   "cell_type": "code",
   "execution_count": 98,
   "metadata": {},
   "outputs": [
    {
     "name": "stdout",
     "output_type": "stream",
     "text": [
      "y_train shape:  (224,)\n"
     ]
    }
   ],
   "source": [
    "print(\"y_train shape: \",y_train.shape)"
   ]
  },
  {
   "cell_type": "code",
   "execution_count": 99,
   "metadata": {},
   "outputs": [],
   "source": [
    "# one hot encoding\n",
    "y_train = to_categorical(y_train, num_classes = 16)"
   ]
  },
  {
   "cell_type": "code",
   "execution_count": 100,
   "metadata": {},
   "outputs": [],
   "source": [
    "# splitting for fitting\n",
    "x_train, x_val, y_train, y_val = train_test_split(x_train, y_train, test_size = 0.1, random_state=123)"
   ]
  },
  {
   "cell_type": "code",
   "execution_count": 101,
   "metadata": {},
   "outputs": [
    {
     "name": "stdout",
     "output_type": "stream",
     "text": [
      "x_train shape (201, 28, 28, 1)\n",
      "x_test shape (23, 28, 28, 1)\n",
      "y_train shape (201, 16)\n",
      "y_test shape (23, 16)\n"
     ]
    }
   ],
   "source": [
    "# Shapes of x_train, x_test, y_train and y_test\n",
    "print(\"x_train shape\",x_train.shape)\n",
    "print(\"x_test shape\",x_val.shape)\n",
    "print(\"y_train shape\",y_train.shape)\n",
    "print(\"y_test shape\",y_val.shape)"
   ]
  },
  {
   "cell_type": "code",
   "execution_count": 102,
   "metadata": {},
   "outputs": [
    {
     "data": {
      "image/png": "[encoded data removed]",
      "text/plain": [
       "<Figure size 432x288 with 1 Axes>"
      ]
     },
     "metadata": {
      "needs_background": "light"
     },
     "output_type": "display_data"
    }
   ],
   "source": [
    "# See some image\n",
    "plt.imshow(x_train[2][:,:,0],cmap='gray')\n",
    "plt.show()"
   ]
  },
  {
   "cell_type": "code",
   "execution_count": 103,
   "metadata": {},
   "outputs": [
    {
     "data": {
      "image/png": "[encoded data removed]",
      "text/plain": [
       "<Figure size 432x288 with 1 Axes>"
      ]
     },
     "metadata": {
      "needs_background": "light"
     },
     "output_type": "display_data"
    }
   ],
   "source": [
    "plt.imshow(x_train[0][:,:,0],cmap='gray')\n",
    "plt.show()"
   ]
  },
  {
   "cell_type": "markdown",
   "metadata": {},
   "source": [
    "## Data augmentation is done to increase the data"
   ]
  },
  {
   "cell_type": "code",
   "execution_count": 104,
   "metadata": {},
   "outputs": [],
   "source": [
    "data_generator = ImageDataGenerator(\n",
    "    rescale = 1./255, \n",
    "    shear_range = 0.2, \n",
    "    zoom_range = 0.2,\n",
    "    validation_split = 0.25,\n",
    "    featurewise_center=True,  # set input mean to 0 over the dataset\n",
    "    samplewise_center=True,  # set each sample mean to 0\n",
    "    featurewise_std_normalization=True,  # divide inputs by std of the dataset\n",
    "    samplewise_std_normalization=True,  # divide each input by its std\n",
    "    zca_whitening=True,  # dimesion reduction\n",
    "    rotation_range=0.5,  # randomly rotate images in the range 5 degrees\n",
    "    width_shift_range=0.5,  # randomly shift images horizontally 5%\n",
    "    height_shift_range=0.5,  # randomly shift images vertically 5%\n",
    "    horizontal_flip=True,  # randomly flip images\n",
    "    vertical_flip=True     # randomly flip images\n",
    ")"
   ]
  },
  {
   "cell_type": "code",
   "execution_count": 105,
   "metadata": {},
   "outputs": [],
   "source": [
    "# The location of the data to be used\n",
    "path = 'allData/dataset'"
   ]
  },
  {
   "cell_type": "code",
   "execution_count": 106,
   "metadata": {},
   "outputs": [
    {
     "name": "stdout",
     "output_type": "stream",
     "text": [
      "Found 240 images belonging to 16 classes.\n"
     ]
    }
   ],
   "source": [
    "# Train data\n",
    "train = data_generator.flow_from_directory(\n",
    "    path, \n",
    "    class_mode = 'categorical',\n",
    "    target_size = (40, 40),\n",
    "    subset='training',\n",
    "    color_mode = 'grayscale',\n",
    "    batch_size = 10,\n",
    "    shuffle = True,\n",
    "    seed = 123\n",
    ")"
   ]
  },
  {
   "cell_type": "code",
   "execution_count": 107,
   "metadata": {},
   "outputs": [
    {
     "name": "stdout",
     "output_type": "stream",
     "text": [
      "Found 80 images belonging to 16 classes.\n"
     ]
    }
   ],
   "source": [
    "# Validation data\n",
    "valid = data_generator.flow_from_directory(\n",
    "    path, \n",
    "    class_mode = 'categorical',\n",
    "    target_size = (40, 40), \n",
    "    subset='validation',\n",
    "    color_mode = 'grayscale',\n",
    "    batch_size = 10,\n",
    "    shuffle = True,\n",
    "    seed = 123\n",
    ")"
   ]
  },
  {
   "cell_type": "markdown",
   "metadata": {},
   "source": [
    "## Creating a CNN model"
   ]
  },
  {
   "cell_type": "code",
   "execution_count": 108,
   "metadata": {},
   "outputs": [],
   "source": [
    "from keras.layers import Dense, Dropout, Flatten, Conv2D, MaxPool2D"
   ]
  },
  {
   "cell_type": "code",
   "execution_count": 109,
   "metadata": {},
   "outputs": [],
   "source": [
    "model = Sequential()\n",
    "\n",
    "model.add(Conv2D(filters = 32, kernel_size = (3,3),padding = 'Same', \n",
    "                 activation ='relu', input_shape = (40,40,1)))\n",
    "\n",
    "# kernel_regularizer=l1(0.01),activity_regularizer=l2(0.01)\n",
    "\n",
    "model.add(MaxPool2D(pool_size=(2,2)))\n",
    "# model.add(Dropout(0.25))\n",
    "\n",
    "model.add(Conv2D(filters = 64, kernel_size = (3,3),padding = 'Same', \n",
    "                 activation ='relu'))\n",
    "\n",
    "model.add(MaxPool2D(pool_size=(2,2), strides=(2,2)))\n",
    "\n",
    "model.add(Conv2D(filters = 128, kernel_size = (3,3),padding = 'Same', \n",
    "                 activation ='relu'))\n",
    "\n",
    "model.add(MaxPool2D(pool_size=(2,2), strides=(2,2)))\n",
    "\n",
    "# model.add(Dropout(0.25))\n",
    "\n",
    "# fully connected\n",
    "\n",
    "model.add(Flatten())\n",
    "model.add(Dense(128, activation = \"relu\"))\n",
    "# model.add(Dropout(0.5))\n",
    "model.add(Dense(16, activation = \"softmax\"))\n",
    "\n",
    "#model.add(BatchNormalization())"
   ]
  },
  {
   "cell_type": "code",
   "execution_count": 110,
   "metadata": {},
   "outputs": [],
   "source": [
    "# (I didn't use kernel_regularizer and BatchNormalization to get better result from model)"
   ]
  },
  {
   "cell_type": "code",
   "execution_count": 111,
   "metadata": {},
   "outputs": [],
   "source": [
    "# Define the optimizer\n",
    "optimizer = Adam(lr = 5e-4)"
   ]
  },
  {
   "cell_type": "code",
   "execution_count": 112,
   "metadata": {},
   "outputs": [],
   "source": [
    "# Compile the model\n",
    "model.compile(optimizer = optimizer , loss = \"categorical_crossentropy\", metrics=[\"accuracy\"])"
   ]
  },
  {
   "cell_type": "code",
   "execution_count": 113,
   "metadata": {},
   "outputs": [],
   "source": [
    "epochs = 100\n",
    "batch_size = 10"
   ]
  },
  {
   "cell_type": "code",
   "execution_count": 114,
   "metadata": {},
   "outputs": [
    {
     "name": "stdout",
     "output_type": "stream",
     "text": [
      "Epoch 1/100\n",
      "23/24 [===========================>..] - ETA: 0s - loss: 2.8187 - accuracy: 0.0783WARNING:tensorflow:Your input ran out of data; interrupting training. Make sure that your dataset or generator can generate at least `steps_per_epoch * epochs` batches (in this case, 10 batches). You may need to use the repeat() function when building your dataset.\n",
      "24/24 [==============================] - 2s 49ms/step - loss: 2.8219 - accuracy: 0.0750 - val_loss: 2.7528 - val_accuracy: 0.1000\n",
      "Epoch 2/100\n",
      "24/24 [==============================] - 1s 25ms/step - loss: 2.7910 - accuracy: 0.0583\n",
      "Epoch 3/100\n",
      "24/24 [==============================] - 1s 24ms/step - loss: 2.7650 - accuracy: 0.1000\n",
      "Epoch 4/100\n",
      "24/24 [==============================] - 1s 24ms/step - loss: 2.7686 - accuracy: 0.0625\n",
      "Epoch 5/100\n",
      "24/24 [==============================] - 1s 24ms/step - loss: 2.7375 - accuracy: 0.1167\n",
      "Epoch 6/100\n",
      "24/24 [==============================] - 1s 24ms/step - loss: 2.7326 - accuracy: 0.1333\n",
      "Epoch 7/100\n",
      "24/24 [==============================] - 1s 24ms/step - loss: 2.6903 - accuracy: 0.1417\n",
      "Epoch 8/100\n",
      "24/24 [==============================] - 1s 24ms/step - loss: 2.6398 - accuracy: 0.1250\n",
      "Epoch 9/100\n",
      "24/24 [==============================] - 1s 24ms/step - loss: 2.5555 - accuracy: 0.1958\n",
      "Epoch 10/100\n",
      "24/24 [==============================] - 1s 21ms/step - loss: 2.4403 - accuracy: 0.1583\n",
      "Epoch 11/100\n",
      "24/24 [==============================] - 0s 18ms/step - loss: 2.3553 - accuracy: 0.2292\n",
      "Epoch 12/100\n",
      "24/24 [==============================] - 0s 19ms/step - loss: 2.1766 - accuracy: 0.2958\n",
      "Epoch 13/100\n",
      "24/24 [==============================] - 0s 18ms/step - loss: 2.2045 - accuracy: 0.2542\n",
      "Epoch 14/100\n",
      "24/24 [==============================] - 0s 18ms/step - loss: 2.0538 - accuracy: 0.2917\n",
      "Epoch 15/100\n",
      "24/24 [==============================] - 0s 18ms/step - loss: 1.9560 - accuracy: 0.3250\n",
      "Epoch 16/100\n",
      "24/24 [==============================] - 0s 18ms/step - loss: 1.8221 - accuracy: 0.3208\n",
      "Epoch 17/100\n",
      "24/24 [==============================] - 0s 19ms/step - loss: 1.7254 - accuracy: 0.3833\n",
      "Epoch 18/100\n",
      "24/24 [==============================] - 0s 18ms/step - loss: 1.7379 - accuracy: 0.3708\n",
      "Epoch 19/100\n",
      "24/24 [==============================] - 0s 19ms/step - loss: 1.7168 - accuracy: 0.3542\n",
      "Epoch 20/100\n",
      "24/24 [==============================] - 0s 18ms/step - loss: 1.6362 - accuracy: 0.3958\n",
      "Epoch 21/100\n",
      "24/24 [==============================] - 0s 18ms/step - loss: 1.4894 - accuracy: 0.4500\n",
      "Epoch 22/100\n",
      "24/24 [==============================] - 0s 18ms/step - loss: 1.4785 - accuracy: 0.4458\n",
      "Epoch 23/100\n",
      "24/24 [==============================] - 0s 18ms/step - loss: 1.4311 - accuracy: 0.4792\n",
      "Epoch 24/100\n",
      "24/24 [==============================] - 0s 18ms/step - loss: 1.4944 - accuracy: 0.4500\n",
      "Epoch 25/100\n",
      "24/24 [==============================] - 0s 19ms/step - loss: 1.4110 - accuracy: 0.4875\n",
      "Epoch 26/100\n",
      "24/24 [==============================] - 0s 18ms/step - loss: 1.2871 - accuracy: 0.5625\n",
      "Epoch 27/100\n",
      "24/24 [==============================] - 0s 18ms/step - loss: 1.3034 - accuracy: 0.5375\n",
      "Epoch 28/100\n",
      "24/24 [==============================] - 0s 19ms/step - loss: 1.3259 - accuracy: 0.5292\n",
      "Epoch 29/100\n",
      "24/24 [==============================] - 0s 19ms/step - loss: 1.3118 - accuracy: 0.5375\n",
      "Epoch 30/100\n",
      "24/24 [==============================] - 0s 18ms/step - loss: 1.2221 - accuracy: 0.5583\n",
      "Epoch 31/100\n",
      "24/24 [==============================] - 0s 18ms/step - loss: 1.1926 - accuracy: 0.5583\n",
      "Epoch 32/100\n",
      "24/24 [==============================] - 0s 18ms/step - loss: 1.1728 - accuracy: 0.6208\n",
      "Epoch 33/100\n",
      "24/24 [==============================] - 0s 18ms/step - loss: 1.2414 - accuracy: 0.5917\n",
      "Epoch 34/100\n",
      "24/24 [==============================] - 0s 19ms/step - loss: 1.2011 - accuracy: 0.5667\n",
      "Epoch 35/100\n",
      "24/24 [==============================] - 0s 19ms/step - loss: 1.1415 - accuracy: 0.6000\n",
      "Epoch 36/100\n",
      "24/24 [==============================] - 0s 18ms/step - loss: 1.1626 - accuracy: 0.6083\n",
      "Epoch 37/100\n",
      "24/24 [==============================] - 0s 18ms/step - loss: 1.2248 - accuracy: 0.5833\n",
      "Epoch 38/100\n",
      "24/24 [==============================] - 0s 19ms/step - loss: 1.1909 - accuracy: 0.6333\n",
      "Epoch 39/100\n",
      "24/24 [==============================] - 0s 18ms/step - loss: 1.0715 - accuracy: 0.6333\n",
      "Epoch 40/100\n",
      "24/24 [==============================] - 0s 19ms/step - loss: 1.1008 - accuracy: 0.5875\n",
      "Epoch 41/100\n",
      "24/24 [==============================] - 0s 18ms/step - loss: 0.9835 - accuracy: 0.6292\n",
      "Epoch 42/100\n",
      "24/24 [==============================] - 0s 18ms/step - loss: 1.1186 - accuracy: 0.6417\n",
      "Epoch 43/100\n",
      "24/24 [==============================] - 0s 18ms/step - loss: 1.0037 - accuracy: 0.6875\n",
      "Epoch 44/100\n",
      "24/24 [==============================] - 0s 18ms/step - loss: 1.0661 - accuracy: 0.6458\n",
      "Epoch 45/100\n",
      "24/24 [==============================] - 0s 18ms/step - loss: 0.9934 - accuracy: 0.6833\n",
      "Epoch 46/100\n",
      "24/24 [==============================] - 0s 19ms/step - loss: 0.7859 - accuracy: 0.7500\n",
      "Epoch 47/100\n",
      "24/24 [==============================] - 0s 18ms/step - loss: 0.9704 - accuracy: 0.6417\n",
      "Epoch 48/100\n",
      "24/24 [==============================] - 0s 19ms/step - loss: 0.9204 - accuracy: 0.6708\n",
      "Epoch 49/100\n",
      "24/24 [==============================] - 0s 18ms/step - loss: 0.9801 - accuracy: 0.6875\n",
      "Epoch 50/100\n",
      "24/24 [==============================] - 0s 18ms/step - loss: 1.0583 - accuracy: 0.6458\n",
      "Epoch 51/100\n",
      "24/24 [==============================] - 0s 18ms/step - loss: 0.8571 - accuracy: 0.7083\n",
      "Epoch 52/100\n",
      "24/24 [==============================] - 0s 18ms/step - loss: 0.8466 - accuracy: 0.6583\n",
      "Epoch 53/100\n",
      "24/24 [==============================] - 0s 18ms/step - loss: 0.9761 - accuracy: 0.6792\n",
      "Epoch 54/100\n",
      "24/24 [==============================] - 0s 18ms/step - loss: 0.9259 - accuracy: 0.6833\n",
      "Epoch 55/100\n",
      "24/24 [==============================] - 0s 18ms/step - loss: 0.8179 - accuracy: 0.7042\n",
      "Epoch 56/100\n",
      "24/24 [==============================] - 0s 18ms/step - loss: 0.7795 - accuracy: 0.7250\n",
      "Epoch 57/100\n",
      "24/24 [==============================] - 0s 19ms/step - loss: 0.7773 - accuracy: 0.7333\n",
      "Epoch 58/100\n",
      "24/24 [==============================] - 0s 19ms/step - loss: 0.7555 - accuracy: 0.7417\n",
      "Epoch 59/100\n",
      "24/24 [==============================] - 0s 19ms/step - loss: 0.7134 - accuracy: 0.7500\n",
      "Epoch 60/100\n",
      "24/24 [==============================] - 0s 19ms/step - loss: 0.8673 - accuracy: 0.7000\n",
      "Epoch 61/100\n",
      "24/24 [==============================] - 0s 19ms/step - loss: 0.8610 - accuracy: 0.7042\n",
      "Epoch 62/100\n",
      "24/24 [==============================] - 0s 19ms/step - loss: 0.7942 - accuracy: 0.7375\n",
      "Epoch 63/100\n",
      "24/24 [==============================] - 0s 19ms/step - loss: 0.7097 - accuracy: 0.7792\n",
      "Epoch 64/100\n",
      "24/24 [==============================] - 0s 18ms/step - loss: 0.8186 - accuracy: 0.7208\n",
      "Epoch 65/100\n",
      "24/24 [==============================] - 0s 20ms/step - loss: 0.7690 - accuracy: 0.7375\n",
      "Epoch 66/100\n",
      "24/24 [==============================] - 0s 19ms/step - loss: 0.8430 - accuracy: 0.7167\n",
      "Epoch 67/100\n",
      "24/24 [==============================] - 0s 18ms/step - loss: 0.7588 - accuracy: 0.7250\n",
      "Epoch 68/100\n",
      "24/24 [==============================] - 0s 18ms/step - loss: 0.8143 - accuracy: 0.7292\n",
      "Epoch 69/100\n",
      "24/24 [==============================] - 0s 18ms/step - loss: 0.8261 - accuracy: 0.7292\n",
      "Epoch 70/100\n",
      "24/24 [==============================] - 0s 19ms/step - loss: 0.7983 - accuracy: 0.7167\n",
      "Epoch 71/100\n",
      "24/24 [==============================] - 0s 18ms/step - loss: 0.8414 - accuracy: 0.7375\n",
      "Epoch 72/100\n",
      "24/24 [==============================] - 0s 18ms/step - loss: 0.6535 - accuracy: 0.8000\n",
      "Epoch 73/100\n",
      "24/24 [==============================] - 0s 19ms/step - loss: 0.6762 - accuracy: 0.7625\n",
      "Epoch 74/100\n",
      "24/24 [==============================] - 0s 18ms/step - loss: 0.6112 - accuracy: 0.7750\n",
      "Epoch 75/100\n",
      "24/24 [==============================] - 0s 19ms/step - loss: 0.8846 - accuracy: 0.7333\n",
      "Epoch 76/100\n",
      "24/24 [==============================] - 0s 19ms/step - loss: 0.6411 - accuracy: 0.7708\n",
      "Epoch 77/100\n",
      "24/24 [==============================] - 0s 18ms/step - loss: 0.7681 - accuracy: 0.7625\n",
      "Epoch 78/100\n"
     ]
    },
    {
     "name": "stdout",
     "output_type": "stream",
     "text": [
      "24/24 [==============================] - 0s 19ms/step - loss: 0.6174 - accuracy: 0.7875\n",
      "Epoch 79/100\n",
      "24/24 [==============================] - 0s 18ms/step - loss: 0.7059 - accuracy: 0.7583\n",
      "Epoch 80/100\n",
      "24/24 [==============================] - 0s 18ms/step - loss: 0.7982 - accuracy: 0.7333\n",
      "Epoch 81/100\n",
      "24/24 [==============================] - 0s 18ms/step - loss: 0.5553 - accuracy: 0.8500\n",
      "Epoch 82/100\n",
      "24/24 [==============================] - 0s 19ms/step - loss: 0.7573 - accuracy: 0.7417\n",
      "Epoch 83/100\n",
      "24/24 [==============================] - 0s 18ms/step - loss: 0.7776 - accuracy: 0.7417\n",
      "Epoch 84/100\n",
      "24/24 [==============================] - 0s 18ms/step - loss: 0.6746 - accuracy: 0.7542\n",
      "Epoch 85/100\n",
      "24/24 [==============================] - 0s 18ms/step - loss: 0.6152 - accuracy: 0.7792\n",
      "Epoch 86/100\n",
      "24/24 [==============================] - 0s 18ms/step - loss: 0.6461 - accuracy: 0.7583\n",
      "Epoch 87/100\n",
      "24/24 [==============================] - 0s 18ms/step - loss: 0.6256 - accuracy: 0.8042\n",
      "Epoch 88/100\n",
      "24/24 [==============================] - 0s 18ms/step - loss: 0.6586 - accuracy: 0.7542\n",
      "Epoch 89/100\n",
      "24/24 [==============================] - 0s 18ms/step - loss: 0.5358 - accuracy: 0.8167\n",
      "Epoch 90/100\n",
      "24/24 [==============================] - 0s 18ms/step - loss: 0.6146 - accuracy: 0.7833\n",
      "Epoch 91/100\n",
      "24/24 [==============================] - 0s 18ms/step - loss: 0.6124 - accuracy: 0.8417\n",
      "Epoch 92/100\n",
      "24/24 [==============================] - 0s 18ms/step - loss: 0.5258 - accuracy: 0.8042\n",
      "Epoch 93/100\n",
      "24/24 [==============================] - 0s 18ms/step - loss: 0.6659 - accuracy: 0.7875\n",
      "Epoch 94/100\n",
      "24/24 [==============================] - 0s 19ms/step - loss: 0.6240 - accuracy: 0.8083\n",
      "Epoch 95/100\n",
      "24/24 [==============================] - 0s 18ms/step - loss: 0.5365 - accuracy: 0.7875\n",
      "Epoch 96/100\n",
      "24/24 [==============================] - 0s 18ms/step - loss: 0.6145 - accuracy: 0.7917\n",
      "Epoch 97/100\n",
      "24/24 [==============================] - 0s 18ms/step - loss: 0.5489 - accuracy: 0.8000\n",
      "Epoch 98/100\n",
      "24/24 [==============================] - 0s 18ms/step - loss: 0.6462 - accuracy: 0.8000\n",
      "Epoch 99/100\n",
      "24/24 [==============================] - 0s 19ms/step - loss: 0.8449 - accuracy: 0.7333\n",
      "Epoch 100/100\n",
      "24/24 [==============================] - 0s 18ms/step - loss: 0.6135 - accuracy: 0.8000\n"
     ]
    }
   ],
   "source": [
    "# fit the model\n",
    "hist = model.fit_generator(train,validation_data=valid,epochs=100 ,verbose=1,validation_steps = 10)"
   ]
  },
  {
   "cell_type": "code",
   "execution_count": 115,
   "metadata": {},
   "outputs": [
    {
     "name": "stdout",
     "output_type": "stream",
     "text": [
      "8/8 [==============================] - 0s 14ms/step - loss: 0.7536 - accuracy: 0.7875\n",
      "0.7536389231681824 0.7875000238418579\n"
     ]
    }
   ],
   "source": [
    "# Calculate the accuracy\n",
    "val_loss, val_accuracy = model.evaluate(valid)\n",
    "print(val_loss,val_accuracy)"
   ]
  },
  {
   "cell_type": "code",
   "execution_count": 116,
   "metadata": {},
   "outputs": [],
   "source": [
    "# Data visualization for train loss and train accuracy"
   ]
  },
  {
   "cell_type": "code",
   "execution_count": 117,
   "metadata": {},
   "outputs": [
    {
     "name": "stdout",
     "output_type": "stream",
     "text": [
      "dict_keys(['loss', 'accuracy', 'val_loss', 'val_accuracy'])\n"
     ]
    },
    {
     "data": {
      "image/png": "[encoded data removed]",
      "text/plain": [
       "<Figure size 432x288 with 1 Axes>"
      ]
     },
     "metadata": {
      "needs_background": "light"
     },
     "output_type": "display_data"
    },
    {
     "data": {
      "image/png": "[encoded data removed]",
      "text/plain": [
       "<Figure size 432x288 with 1 Axes>"
      ]
     },
     "metadata": {
      "needs_background": "light"
     },
     "output_type": "display_data"
    }
   ],
   "source": [
    "print(hist.history.keys())\n",
    "plt.plot(hist.history[\"loss\"], label = \"Train Loss\")\n",
    "plt.legend()\n",
    "plt.show()\n",
    "plt.figure()\n",
    "plt.plot(hist.history[\"accuracy\"], label = \"Train acc\")\n",
    "plt.legend()\n",
    "plt.show()"
   ]
  },
  {
   "cell_type": "code",
   "execution_count": 118,
   "metadata": {},
   "outputs": [
    {
     "data": {
      "text/plain": [
       "{'0': 0,\n",
       " '1': 1,\n",
       " '10': 2,\n",
       " '11': 3,\n",
       " '12': 4,\n",
       " '13': 5,\n",
       " '14': 6,\n",
       " '15': 7,\n",
       " '2': 8,\n",
       " '3': 9,\n",
       " '4': 10,\n",
       " '5': 11,\n",
       " '6': 12,\n",
       " '7': 13,\n",
       " '8': 14,\n",
       " '9': 15}"
      ]
     },
     "execution_count": 118,
     "metadata": {},
     "output_type": "execute_result"
    }
   ],
   "source": [
    "# train set classes\n",
    "train.class_indices"
   ]
  },
  {
   "cell_type": "code",
   "execution_count": 119,
   "metadata": {},
   "outputs": [
    {
     "data": {
      "text/plain": [
       "{'0': 0,\n",
       " '1': 1,\n",
       " '10': 2,\n",
       " '11': 3,\n",
       " '12': 4,\n",
       " '13': 5,\n",
       " '14': 6,\n",
       " '15': 7,\n",
       " '2': 8,\n",
       " '3': 9,\n",
       " '4': 10,\n",
       " '5': 11,\n",
       " '6': 12,\n",
       " '7': 13,\n",
       " '8': 14,\n",
       " '9': 15}"
      ]
     },
     "execution_count": 119,
     "metadata": {},
     "output_type": "execute_result"
    }
   ],
   "source": [
    "label = (train.class_indices)\n",
    "label"
   ]
  },
  {
   "cell_type": "code",
   "execution_count": 120,
   "metadata": {},
   "outputs": [],
   "source": [
    "# prediction function that will understand the mathematical equation and make predictions using the model we created \n",
    "# and the cv2 library"
   ]
  },
  {
   "cell_type": "code",
   "execution_count": 121,
   "metadata": {},
   "outputs": [],
   "source": [
    "def predict_image(image):\n",
    "\n",
    "    plt.imshow(image, cmap = 'gray')\n",
    "    image = cv2.resize(image,(40, 40))\n",
    "    normalized = cv2.normalize(image, None, alpha = 0, beta = 1, norm_type = cv2.NORM_MINMAX, dtype = cv2.CV_32F)\n",
    "    normalized = normalized.reshape((normalized.shape[0], normalized.shape[1], 1))\n",
    "    y = np.asarray([normalized])\n",
    "    prediction = np.argmax(model.predict(y))\n",
    "    \n",
    "    return prediction"
   ]
  },
  {
   "cell_type": "code",
   "execution_count": 122,
   "metadata": {},
   "outputs": [],
   "source": [
    "# Code to distinguish and understand numbers and operators in a mathematical equation \n",
    "# written on paper using the cv2 library"
   ]
  },
  {
   "cell_type": "code",
   "execution_count": 123,
   "metadata": {},
   "outputs": [
    {
     "name": "stdout",
     "output_type": "stream",
     "text": [
      "1/1 [==============================] - 0s 71ms/step\n",
      "1/1 [==============================] - 0s 17ms/step\n",
      "1/1 [==============================] - 0s 17ms/step\n",
      "1/1 [==============================] - 0s 18ms/step\n",
      "1/1 [==============================] - 0s 33ms/step\n"
     ]
    },
    {
     "data": {
      "image/png": "[encoded data removed]",
      "text/plain": [
       "<Figure size 432x288 with 1 Axes>"
      ]
     },
     "metadata": {
      "needs_background": "light"
     },
     "output_type": "display_data"
    }
   ],
   "source": [
    "image = cv2.imread('2.png')\n",
    "gray = cv2.cvtColor(image, cv2.COLOR_BGR2GRAY)\n",
    "blurred = cv2.GaussianBlur(gray, (5, 5), 0)\n",
    "\n",
    "edged = cv2.Canny(blurred, 30, 150)\n",
    "cnts = cv2.findContours(edged.copy(), cv2.RETR_EXTERNAL,cv2.CHAIN_APPROX_SIMPLE)\n",
    "cnts = imutils.grab_contours(cnts)\n",
    "cnts = sort_contours(cnts, method=\"left-to-right\")[0]\n",
    "chars=[]\n",
    "\n",
    "for c in cnts:\n",
    "\n",
    "    (x, y, w, h) = cv2.boundingRect(c)\n",
    "\n",
    "    if w*h>1200:\n",
    "       \n",
    "        roi = gray[y:y + h, x:x + w]\n",
    "        chars.append(predict_image(roi))\n",
    "        cv2.rectangle(image, (x, y), (x + w, y + h), (0, 255, 0), 2)"
   ]
  },
  {
   "cell_type": "code",
   "execution_count": 124,
   "metadata": {},
   "outputs": [],
   "source": [
    "# Show the mathematical equation"
   ]
  },
  {
   "cell_type": "code",
   "execution_count": 125,
   "metadata": {},
   "outputs": [
    {
     "data": {
      "text/plain": [
       "<matplotlib.image.AxesImage at 0x1e7e0141400>"
      ]
     },
     "execution_count": 125,
     "metadata": {},
     "output_type": "execute_result"
    },
    {
     "data": {
      "image/png": "[encoded data removed]",
      "text/plain": [
       "<Figure size 720x720 with 1 Axes>"
      ]
     },
     "metadata": {
      "needs_background": "light"
     },
     "output_type": "display_data"
    }
   ],
   "source": [
    "plt.figure(figsize=(10,10))\n",
    "plt.imshow(image)"
   ]
  },
  {
   "cell_type": "code",
   "execution_count": 126,
   "metadata": {},
   "outputs": [
    {
     "data": {
      "text/plain": [
       "[4, 14, 14, 4, 14]"
      ]
     },
     "execution_count": 126,
     "metadata": {},
     "output_type": "execute_result"
    }
   ],
   "source": [
    "# characters in the picture\n",
    "chars"
   ]
  },
  {
   "cell_type": "code",
   "execution_count": 127,
   "metadata": {},
   "outputs": [],
   "source": [
    "# We introduce the contents of 10, 11, 12, 13, 14 and 15 files to the label list."
   ]
  },
  {
   "cell_type": "code",
   "execution_count": 128,
   "metadata": {},
   "outputs": [
    {
     "name": "stdout",
     "output_type": "stream",
     "text": [
      "['0', '1', '10', '11', '12', '13', '14', '15', '2', '3', '4', '5', '6', '7', '8', '9']\n"
     ]
    }
   ],
   "source": [
    "labels=[i for i in train.class_indices]\n",
    "print(labels)"
   ]
  },
  {
   "cell_type": "code",
   "execution_count": 129,
   "metadata": {},
   "outputs": [],
   "source": [
    "labels[2] = \"-\"\n",
    "labels[3] = \"+\"\n",
    "labels[4] = \"*\"\n",
    "labels[5] = \"/\"\n",
    "labels[6] = \"[\"\n",
    "labels[7] = \"]\""
   ]
  },
  {
   "cell_type": "code",
   "execution_count": 130,
   "metadata": {},
   "outputs": [
    {
     "data": {
      "text/plain": [
       "['0',\n",
       " '1',\n",
       " '-',\n",
       " '+',\n",
       " '*',\n",
       " '/',\n",
       " '[',\n",
       " ']',\n",
       " '2',\n",
       " '3',\n",
       " '4',\n",
       " '5',\n",
       " '6',\n",
       " '7',\n",
       " '8',\n",
       " '9']"
      ]
     },
     "execution_count": 130,
     "metadata": {},
     "output_type": "execute_result"
    }
   ],
   "source": [
    "labels"
   ]
  },
  {
   "cell_type": "code",
   "execution_count": 131,
   "metadata": {},
   "outputs": [],
   "source": [
    "equation = []\n",
    "result = \"\"\n",
    "for i in chars:\n",
    "    equation.append(labels[i])\n",
    "    result = ''.join(equation)"
   ]
  },
  {
   "cell_type": "code",
   "execution_count": 132,
   "metadata": {},
   "outputs": [],
   "source": [
    "# Mathematical equation written in the photo"
   ]
  },
  {
   "cell_type": "code",
   "execution_count": 133,
   "metadata": {},
   "outputs": [
    {
     "data": {
      "text/plain": [
       "'*88*8'"
      ]
     },
     "execution_count": 133,
     "metadata": {},
     "output_type": "execute_result"
    }
   ],
   "source": [
    "result"
   ]
  }
 ],
 "metadata": {
  "kernelspec": {
   "display_name": "Python 3",
   "language": "python",
   "name": "python3"
  },
  "language_info": {
   "codemirror_mode": {
    "name": "ipython",
    "version": 3
   },
   "file_extension": ".py",
   "mimetype": "text/x-python",
   "name": "python",
   "nbconvert_exporter": "python",
   "pygments_lexer": "ipython3",
   "version": "3.8.8"
  }
 },
 "nbformat": 4,
 "nbformat_minor": 4
}
